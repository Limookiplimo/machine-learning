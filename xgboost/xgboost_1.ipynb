{
 "cells": [
  {
   "cell_type": "code",
   "execution_count": 1,
   "id": "580b1831",
   "metadata": {},
   "outputs": [],
   "source": [
    "from xgboost import XGBClassifier\n",
    "from sklearn.datasets import load_iris\n",
    "from sklearn.model_selection import train_test_split"
   ]
  },
  {
   "cell_type": "markdown",
   "id": "d1442222",
   "metadata": {},
   "source": [
    "## Introduction"
   ]
  },
  {
   "cell_type": "code",
   "execution_count": 2,
   "id": "4574845d",
   "metadata": {},
   "outputs": [],
   "source": [
    "data = load_iris()\n",
    "X_train, X_test, y_train, y_test = train_test_split(data['data'], data['target'], test_size=.2)\n",
    "bst = XGBClassifier(n_estimators=2, max_depth=2, learning_rate=1, objective='binary:logistic')\n",
    "\n",
    "bst.fit(X_train, y_train)\n",
    "pred = bst.predict(X_test)"
   ]
  },
  {
   "cell_type": "code",
   "execution_count": 3,
   "id": "85dc81b7",
   "metadata": {},
   "outputs": [
    {
     "name": "stdout",
     "output_type": "stream",
     "text": [
      "[1 1 1 0 2 2 2 2 2 0 0 0 1 1 2 1 0 2 1 0 0 1 0 0 2 2 0 2 2 2]\n"
     ]
    }
   ],
   "source": [
    "print(pred)"
   ]
  },
  {
   "cell_type": "markdown",
   "id": "4b73af54",
   "metadata": {},
   "source": [
    "## Rank"
   ]
  },
  {
   "cell_type": "code",
   "execution_count": 4,
   "id": "78245f9c",
   "metadata": {},
   "outputs": [],
   "source": [
    "from sklearn.datasets import make_classification\n",
    "import numpy as np\n",
    "import xgboost as xgb"
   ]
  },
  {
   "cell_type": "code",
   "execution_count": 5,
   "id": "7c08e2e7",
   "metadata": {},
   "outputs": [],
   "source": [
    "# synthetic dataset\n",
    "seed = 1994\n",
    "X, y = make_classification(random_state=seed)\n",
    "rng = np.random.default_rng(seed)\n",
    "n_query_groups = 3\n",
    "qid = rng.integers(0, 3, size=X.shape[0])\n",
    "\n",
    "# sort inputs\n",
    "sorted_idx = np.argsort(qid)\n",
    "X = X[sorted_idx, :]\n",
    "y = y[sorted_idx]"
   ]
  },
  {
   "cell_type": "code",
   "execution_count": 17,
   "id": "8597ae6e",
   "metadata": {},
   "outputs": [],
   "source": [
    "# train ranking model\n",
    "ranker = xgb.XGBRanker(tree_method=\"hist\", lambdarank_num_pair_per_sample=8, objective=\"rank:ndcg\", lambdarank_pair_method=\"topk\")\n",
    "ranker.fit(X, y, qid=qid)"
   ]
  },
  {
   "cell_type": "markdown",
   "id": "42fe6509",
   "metadata": {},
   "source": [
    "## Survival Analysis"
   ]
  },
  {
   "cell_type": "code",
   "execution_count": 6,
   "id": "a2694852",
   "metadata": {},
   "outputs": [],
   "source": [
    "import numpy as np\n",
    "import xgboost as xgb\n",
    "\n",
    "# 4-by-2 Data matrix\n",
    "X = np.array([[1, -1], [-1, 1], [0, 1], [1, 0]])\n",
    "dtrain = xgb.DMatrix(X)\n",
    "\n",
    "#censored labels.\n",
    "#                         uncensored    right     left  interval\n",
    "y_lower_bound = np.array([      2.0,     3.0,     0.0,     4.0])\n",
    "y_upper_bound = np.array([      2.0, +np.inf,     4.0,     5.0])\n",
    "dtrain.set_float_info('label_lower_bound', y_lower_bound)\n",
    "dtrain.set_float_info('label_upper_bound', y_upper_bound)"
   ]
  },
  {
   "cell_type": "code",
   "execution_count": 7,
   "id": "e0e44987",
   "metadata": {},
   "outputs": [
    {
     "name": "stdout",
     "output_type": "stream",
     "text": [
      "[0]\ttrain-aft-nloglik:2.30142\n",
      "[1]\ttrain-aft-nloglik:2.24184\n",
      "[2]\ttrain-aft-nloglik:2.18633\n",
      "[3]\ttrain-aft-nloglik:2.13462\n",
      "[4]\ttrain-aft-nloglik:2.08645\n"
     ]
    }
   ],
   "source": [
    "# train\n",
    "params = {'objective': 'survival:aft',\n",
    "          'eval_metric': 'aft-nloglik',\n",
    "          'aft_loss_distribution': 'normal',\n",
    "          'aft_loss_distribution_scale': 1.20,\n",
    "          'tree_method': 'hist', 'learning_rate': 0.05, 'max_depth': 2}\n",
    "bst = xgb.train(params, dtrain, num_boost_round=5,\n",
    "                evals=[(dtrain, 'train')])"
   ]
  },
  {
   "cell_type": "code",
   "execution_count": null,
   "id": "396c11fe",
   "metadata": {},
   "outputs": [],
   "source": []
  },
  {
   "cell_type": "code",
   "execution_count": null,
   "id": "abe25a14",
   "metadata": {},
   "outputs": [],
   "source": []
  }
 ],
 "metadata": {
  "kernelspec": {
   "display_name": "Python 3 (ipykernel)",
   "language": "python",
   "name": "python3"
  },
  "language_info": {
   "codemirror_mode": {
    "name": "ipython",
    "version": 3
   },
   "file_extension": ".py",
   "mimetype": "text/x-python",
   "name": "python",
   "nbconvert_exporter": "python",
   "pygments_lexer": "ipython3",
   "version": "3.11.5"
  }
 },
 "nbformat": 4,
 "nbformat_minor": 5
}
